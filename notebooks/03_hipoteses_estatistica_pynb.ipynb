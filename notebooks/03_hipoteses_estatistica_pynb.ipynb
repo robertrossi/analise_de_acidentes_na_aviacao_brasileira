{
  "nbformat": 4,
  "nbformat_minor": 0,
  "metadata": {
    "colab": {
      "provenance": []
    },
    "kernelspec": {
      "name": "python3",
      "display_name": "Python 3"
    },
    "language_info": {
      "name": "python"
    }
  },
  "cells": [
    {
      "cell_type": "markdown",
      "source": [
        "# 03 - Análise Exploratória\n",
        "\n",
        "## 3.1-Hipótese\n",
        "##3.2-TESTE DE HIPÓTESE\n",
        "##3.2.1-Clusterização\n",
        "##3.2.1.1-Tratamento dos dados para clusterização\n",
        "##3.2.1.2- Método Elbow para seleção de número de clusters\n",
        "##3.2.1.3 - Aplicação do algoritmo KMeans e análise dos clusters gerados\n",
        "##3.2.1.3.1 - Distribuição percentual das fases da operação por cluster\n",
        "#3.2.3-Cluster 0\n",
        "#3.2.2-Cluster 1\n",
        "#3.2.3-Cluster 2\n",
        "###3.3-Gráfico PCA\n",
        "###3.4- Análise estatística\n",
        "###3.5- Conclusão e recomendações\n"
      ],
      "metadata": {
        "id": "4CHaopz2iv-z"
      }
    },
    {
      "cell_type": "markdown",
      "source": [
        "# 03 - Análise Exploratória"
      ],
      "metadata": {
        "id": "po9FwMczoXjD"
      }
    },
    {
      "cell_type": "markdown",
      "source": [
        "- Este notebook tem como objetivo realizar uma análise exploratória das ocorrências aeronáuticas, com foco em entender padrões temporais, fatores contribuintes e aspectos críticos dos acidentes e incidentes registrados."
      ],
      "metadata": {
        "id": "e9kYnCwri28N"
      }
    },
    {
      "cell_type": "code",
      "execution_count": 1,
      "metadata": {
        "id": "afYKqMULnngS"
      },
      "outputs": [],
      "source": [
        "import pandas as pd\n",
        "import numpy as np\n",
        "import matplotlib.pyplot as plt\n",
        "import seaborn as sns\n",
        "from scipy.stats import chi2_contingency\n",
        "from sklearn.preprocessing import StandardScaler\n",
        "from sklearn.cluster import KMeans\n",
        "from sklearn.metrics import silhouette_score, calinski_harabasz_score, davies_bouldin_score\n",
        "from sklearn.decomposition import PCA\n"
      ]
    },
    {
      "cell_type": "code",
      "source": [
        "df_ocorrencias = pd.read_csv('/content/drive/MyDrive/DESAFIOA3DATA/base_tratada/df_ocorrencias_finalizadas.csv')\n",
        "df_ocorrencias.head()"
      ],
      "metadata": {
        "colab": {
          "base_uri": "https://localhost:8080/",
          "height": 412
        },
        "id": "gC3llQ7kzCWP",
        "outputId": "f8afb56d-7a66-4f3f-9ff9-1912c9d65267"
      },
      "execution_count": 2,
      "outputs": [
        {
          "output_type": "execute_result",
          "data": {
            "text/plain": [
              "   codigo_ocorrencia    classificacao                       tipo   localidade  \\\n",
              "0              50313  INCIDENTE GRAVE             POUSO SEM TREM       CACOAL   \n",
              "1              34078         ACIDENTE  PERDA DE CONTROLE NO SOLO   CEREJEIRAS   \n",
              "2              44988         ACIDENTE                POUSO LONGO      AMAJARI   \n",
              "3              43063         ACIDENTE   PERDA DE CONTROLE EM VOO  ALTO ALEGRE   \n",
              "4              45280         ACIDENTE      FALHA DO MOTOR EM VOO  ALTO ALEGRE   \n",
              "\n",
              "   uf    pais aerodromo dia_ocorrencia   horario sera_investigada  ...  \\\n",
              "0  RO  BRASIL      SSKW     2013-11-25  12:32:00              SIM  ...   \n",
              "1  RO  BRASIL       NaN     2008-08-07  15:10:00              SIM  ...   \n",
              "2  RR  BRASIL       NaN     2011-08-11  17:00:00              SIM  ...   \n",
              "3  RR  BRASIL       NaN     2010-09-21  17:10:00              SIM  ...   \n",
              "4  RR  BRASIL       NaN     2011-11-22  16:40:00              SIM  ...   \n",
              "\n",
              "  fator_area_FATOR HUMANO fator_area_FATOR MATERIAL  \\\n",
              "0                     0.0                       0.0   \n",
              "1                     0.0                       0.0   \n",
              "2                     0.0                       0.0   \n",
              "3                     1.0                       0.0   \n",
              "4                     0.0                       0.0   \n",
              "\n",
              "  fator_area_FATOR OPERACIONAL  fator_area_OUTRO   ano  mes  dia  \\\n",
              "0                          1.0               0.0  2013   11   25   \n",
              "1                          1.0               0.0  2008    8    7   \n",
              "2                          1.0               1.0  2011    8   11   \n",
              "3                          1.0               1.0  2010    9   21   \n",
              "4                          1.0               0.0  2011   11   22   \n",
              "\n",
              "   ano_de_fabricacao  grupo_ano_fab nivel_dano_num  \n",
              "0             1980.0      1980–2000            2.0  \n",
              "1             1981.0      1980–2000            2.0  \n",
              "2             1981.0      1980–2000            2.0  \n",
              "3             1980.0      1980–2000            2.0  \n",
              "4             1973.0  Antes de 1980            3.0  \n",
              "\n",
              "[5 rows x 49 columns]"
            ],
            "text/html": [
              "\n",
              "  <div id=\"df-1dd1b35e-df8f-4b9f-b964-154a2141a53c\" class=\"colab-df-container\">\n",
              "    <div>\n",
              "<style scoped>\n",
              "    .dataframe tbody tr th:only-of-type {\n",
              "        vertical-align: middle;\n",
              "    }\n",
              "\n",
              "    .dataframe tbody tr th {\n",
              "        vertical-align: top;\n",
              "    }\n",
              "\n",
              "    .dataframe thead th {\n",
              "        text-align: right;\n",
              "    }\n",
              "</style>\n",
              "<table border=\"1\" class=\"dataframe\">\n",
              "  <thead>\n",
              "    <tr style=\"text-align: right;\">\n",
              "      <th></th>\n",
              "      <th>codigo_ocorrencia</th>\n",
              "      <th>classificacao</th>\n",
              "      <th>tipo</th>\n",
              "      <th>localidade</th>\n",
              "      <th>uf</th>\n",
              "      <th>pais</th>\n",
              "      <th>aerodromo</th>\n",
              "      <th>dia_ocorrencia</th>\n",
              "      <th>horario</th>\n",
              "      <th>sera_investigada</th>\n",
              "      <th>...</th>\n",
              "      <th>fator_area_FATOR HUMANO</th>\n",
              "      <th>fator_area_FATOR MATERIAL</th>\n",
              "      <th>fator_area_FATOR OPERACIONAL</th>\n",
              "      <th>fator_area_OUTRO</th>\n",
              "      <th>ano</th>\n",
              "      <th>mes</th>\n",
              "      <th>dia</th>\n",
              "      <th>ano_de_fabricacao</th>\n",
              "      <th>grupo_ano_fab</th>\n",
              "      <th>nivel_dano_num</th>\n",
              "    </tr>\n",
              "  </thead>\n",
              "  <tbody>\n",
              "    <tr>\n",
              "      <th>0</th>\n",
              "      <td>50313</td>\n",
              "      <td>INCIDENTE GRAVE</td>\n",
              "      <td>POUSO SEM TREM</td>\n",
              "      <td>CACOAL</td>\n",
              "      <td>RO</td>\n",
              "      <td>BRASIL</td>\n",
              "      <td>SSKW</td>\n",
              "      <td>2013-11-25</td>\n",
              "      <td>12:32:00</td>\n",
              "      <td>SIM</td>\n",
              "      <td>...</td>\n",
              "      <td>0.0</td>\n",
              "      <td>0.0</td>\n",
              "      <td>1.0</td>\n",
              "      <td>0.0</td>\n",
              "      <td>2013</td>\n",
              "      <td>11</td>\n",
              "      <td>25</td>\n",
              "      <td>1980.0</td>\n",
              "      <td>1980–2000</td>\n",
              "      <td>2.0</td>\n",
              "    </tr>\n",
              "    <tr>\n",
              "      <th>1</th>\n",
              "      <td>34078</td>\n",
              "      <td>ACIDENTE</td>\n",
              "      <td>PERDA DE CONTROLE NO SOLO</td>\n",
              "      <td>CEREJEIRAS</td>\n",
              "      <td>RO</td>\n",
              "      <td>BRASIL</td>\n",
              "      <td>NaN</td>\n",
              "      <td>2008-08-07</td>\n",
              "      <td>15:10:00</td>\n",
              "      <td>SIM</td>\n",
              "      <td>...</td>\n",
              "      <td>0.0</td>\n",
              "      <td>0.0</td>\n",
              "      <td>1.0</td>\n",
              "      <td>0.0</td>\n",
              "      <td>2008</td>\n",
              "      <td>8</td>\n",
              "      <td>7</td>\n",
              "      <td>1981.0</td>\n",
              "      <td>1980–2000</td>\n",
              "      <td>2.0</td>\n",
              "    </tr>\n",
              "    <tr>\n",
              "      <th>2</th>\n",
              "      <td>44988</td>\n",
              "      <td>ACIDENTE</td>\n",
              "      <td>POUSO LONGO</td>\n",
              "      <td>AMAJARI</td>\n",
              "      <td>RR</td>\n",
              "      <td>BRASIL</td>\n",
              "      <td>NaN</td>\n",
              "      <td>2011-08-11</td>\n",
              "      <td>17:00:00</td>\n",
              "      <td>SIM</td>\n",
              "      <td>...</td>\n",
              "      <td>0.0</td>\n",
              "      <td>0.0</td>\n",
              "      <td>1.0</td>\n",
              "      <td>1.0</td>\n",
              "      <td>2011</td>\n",
              "      <td>8</td>\n",
              "      <td>11</td>\n",
              "      <td>1981.0</td>\n",
              "      <td>1980–2000</td>\n",
              "      <td>2.0</td>\n",
              "    </tr>\n",
              "    <tr>\n",
              "      <th>3</th>\n",
              "      <td>43063</td>\n",
              "      <td>ACIDENTE</td>\n",
              "      <td>PERDA DE CONTROLE EM VOO</td>\n",
              "      <td>ALTO ALEGRE</td>\n",
              "      <td>RR</td>\n",
              "      <td>BRASIL</td>\n",
              "      <td>NaN</td>\n",
              "      <td>2010-09-21</td>\n",
              "      <td>17:10:00</td>\n",
              "      <td>SIM</td>\n",
              "      <td>...</td>\n",
              "      <td>1.0</td>\n",
              "      <td>0.0</td>\n",
              "      <td>1.0</td>\n",
              "      <td>1.0</td>\n",
              "      <td>2010</td>\n",
              "      <td>9</td>\n",
              "      <td>21</td>\n",
              "      <td>1980.0</td>\n",
              "      <td>1980–2000</td>\n",
              "      <td>2.0</td>\n",
              "    </tr>\n",
              "    <tr>\n",
              "      <th>4</th>\n",
              "      <td>45280</td>\n",
              "      <td>ACIDENTE</td>\n",
              "      <td>FALHA DO MOTOR EM VOO</td>\n",
              "      <td>ALTO ALEGRE</td>\n",
              "      <td>RR</td>\n",
              "      <td>BRASIL</td>\n",
              "      <td>NaN</td>\n",
              "      <td>2011-11-22</td>\n",
              "      <td>16:40:00</td>\n",
              "      <td>SIM</td>\n",
              "      <td>...</td>\n",
              "      <td>0.0</td>\n",
              "      <td>0.0</td>\n",
              "      <td>1.0</td>\n",
              "      <td>0.0</td>\n",
              "      <td>2011</td>\n",
              "      <td>11</td>\n",
              "      <td>22</td>\n",
              "      <td>1973.0</td>\n",
              "      <td>Antes de 1980</td>\n",
              "      <td>3.0</td>\n",
              "    </tr>\n",
              "  </tbody>\n",
              "</table>\n",
              "<p>5 rows × 49 columns</p>\n",
              "</div>\n",
              "    <div class=\"colab-df-buttons\">\n",
              "\n",
              "  <div class=\"colab-df-container\">\n",
              "    <button class=\"colab-df-convert\" onclick=\"convertToInteractive('df-1dd1b35e-df8f-4b9f-b964-154a2141a53c')\"\n",
              "            title=\"Convert this dataframe to an interactive table.\"\n",
              "            style=\"display:none;\">\n",
              "\n",
              "  <svg xmlns=\"http://www.w3.org/2000/svg\" height=\"24px\" viewBox=\"0 -960 960 960\">\n",
              "    <path d=\"M120-120v-720h720v720H120Zm60-500h600v-160H180v160Zm220 220h160v-160H400v160Zm0 220h160v-160H400v160ZM180-400h160v-160H180v160Zm440 0h160v-160H620v160ZM180-180h160v-160H180v160Zm440 0h160v-160H620v160Z\"/>\n",
              "  </svg>\n",
              "    </button>\n",
              "\n",
              "  <style>\n",
              "    .colab-df-container {\n",
              "      display:flex;\n",
              "      gap: 12px;\n",
              "    }\n",
              "\n",
              "    .colab-df-convert {\n",
              "      background-color: #E8F0FE;\n",
              "      border: none;\n",
              "      border-radius: 50%;\n",
              "      cursor: pointer;\n",
              "      display: none;\n",
              "      fill: #1967D2;\n",
              "      height: 32px;\n",
              "      padding: 0 0 0 0;\n",
              "      width: 32px;\n",
              "    }\n",
              "\n",
              "    .colab-df-convert:hover {\n",
              "      background-color: #E2EBFA;\n",
              "      box-shadow: 0px 1px 2px rgba(60, 64, 67, 0.3), 0px 1px 3px 1px rgba(60, 64, 67, 0.15);\n",
              "      fill: #174EA6;\n",
              "    }\n",
              "\n",
              "    .colab-df-buttons div {\n",
              "      margin-bottom: 4px;\n",
              "    }\n",
              "\n",
              "    [theme=dark] .colab-df-convert {\n",
              "      background-color: #3B4455;\n",
              "      fill: #D2E3FC;\n",
              "    }\n",
              "\n",
              "    [theme=dark] .colab-df-convert:hover {\n",
              "      background-color: #434B5C;\n",
              "      box-shadow: 0px 1px 3px 1px rgba(0, 0, 0, 0.15);\n",
              "      filter: drop-shadow(0px 1px 2px rgba(0, 0, 0, 0.3));\n",
              "      fill: #FFFFFF;\n",
              "    }\n",
              "  </style>\n",
              "\n",
              "    <script>\n",
              "      const buttonEl =\n",
              "        document.querySelector('#df-1dd1b35e-df8f-4b9f-b964-154a2141a53c button.colab-df-convert');\n",
              "      buttonEl.style.display =\n",
              "        google.colab.kernel.accessAllowed ? 'block' : 'none';\n",
              "\n",
              "      async function convertToInteractive(key) {\n",
              "        const element = document.querySelector('#df-1dd1b35e-df8f-4b9f-b964-154a2141a53c');\n",
              "        const dataTable =\n",
              "          await google.colab.kernel.invokeFunction('convertToInteractive',\n",
              "                                                    [key], {});\n",
              "        if (!dataTable) return;\n",
              "\n",
              "        const docLinkHtml = 'Like what you see? Visit the ' +\n",
              "          '<a target=\"_blank\" href=https://colab.research.google.com/notebooks/data_table.ipynb>data table notebook</a>'\n",
              "          + ' to learn more about interactive tables.';\n",
              "        element.innerHTML = '';\n",
              "        dataTable['output_type'] = 'display_data';\n",
              "        await google.colab.output.renderOutput(dataTable, element);\n",
              "        const docLink = document.createElement('div');\n",
              "        docLink.innerHTML = docLinkHtml;\n",
              "        element.appendChild(docLink);\n",
              "      }\n",
              "    </script>\n",
              "  </div>\n",
              "\n",
              "\n",
              "    <div id=\"df-966952d8-c9eb-401f-b03f-9238208a33e8\">\n",
              "      <button class=\"colab-df-quickchart\" onclick=\"quickchart('df-966952d8-c9eb-401f-b03f-9238208a33e8')\"\n",
              "                title=\"Suggest charts\"\n",
              "                style=\"display:none;\">\n",
              "\n",
              "<svg xmlns=\"http://www.w3.org/2000/svg\" height=\"24px\"viewBox=\"0 0 24 24\"\n",
              "     width=\"24px\">\n",
              "    <g>\n",
              "        <path d=\"M19 3H5c-1.1 0-2 .9-2 2v14c0 1.1.9 2 2 2h14c1.1 0 2-.9 2-2V5c0-1.1-.9-2-2-2zM9 17H7v-7h2v7zm4 0h-2V7h2v10zm4 0h-2v-4h2v4z\"/>\n",
              "    </g>\n",
              "</svg>\n",
              "      </button>\n",
              "\n",
              "<style>\n",
              "  .colab-df-quickchart {\n",
              "      --bg-color: #E8F0FE;\n",
              "      --fill-color: #1967D2;\n",
              "      --hover-bg-color: #E2EBFA;\n",
              "      --hover-fill-color: #174EA6;\n",
              "      --disabled-fill-color: #AAA;\n",
              "      --disabled-bg-color: #DDD;\n",
              "  }\n",
              "\n",
              "  [theme=dark] .colab-df-quickchart {\n",
              "      --bg-color: #3B4455;\n",
              "      --fill-color: #D2E3FC;\n",
              "      --hover-bg-color: #434B5C;\n",
              "      --hover-fill-color: #FFFFFF;\n",
              "      --disabled-bg-color: #3B4455;\n",
              "      --disabled-fill-color: #666;\n",
              "  }\n",
              "\n",
              "  .colab-df-quickchart {\n",
              "    background-color: var(--bg-color);\n",
              "    border: none;\n",
              "    border-radius: 50%;\n",
              "    cursor: pointer;\n",
              "    display: none;\n",
              "    fill: var(--fill-color);\n",
              "    height: 32px;\n",
              "    padding: 0;\n",
              "    width: 32px;\n",
              "  }\n",
              "\n",
              "  .colab-df-quickchart:hover {\n",
              "    background-color: var(--hover-bg-color);\n",
              "    box-shadow: 0 1px 2px rgba(60, 64, 67, 0.3), 0 1px 3px 1px rgba(60, 64, 67, 0.15);\n",
              "    fill: var(--button-hover-fill-color);\n",
              "  }\n",
              "\n",
              "  .colab-df-quickchart-complete:disabled,\n",
              "  .colab-df-quickchart-complete:disabled:hover {\n",
              "    background-color: var(--disabled-bg-color);\n",
              "    fill: var(--disabled-fill-color);\n",
              "    box-shadow: none;\n",
              "  }\n",
              "\n",
              "  .colab-df-spinner {\n",
              "    border: 2px solid var(--fill-color);\n",
              "    border-color: transparent;\n",
              "    border-bottom-color: var(--fill-color);\n",
              "    animation:\n",
              "      spin 1s steps(1) infinite;\n",
              "  }\n",
              "\n",
              "  @keyframes spin {\n",
              "    0% {\n",
              "      border-color: transparent;\n",
              "      border-bottom-color: var(--fill-color);\n",
              "      border-left-color: var(--fill-color);\n",
              "    }\n",
              "    20% {\n",
              "      border-color: transparent;\n",
              "      border-left-color: var(--fill-color);\n",
              "      border-top-color: var(--fill-color);\n",
              "    }\n",
              "    30% {\n",
              "      border-color: transparent;\n",
              "      border-left-color: var(--fill-color);\n",
              "      border-top-color: var(--fill-color);\n",
              "      border-right-color: var(--fill-color);\n",
              "    }\n",
              "    40% {\n",
              "      border-color: transparent;\n",
              "      border-right-color: var(--fill-color);\n",
              "      border-top-color: var(--fill-color);\n",
              "    }\n",
              "    60% {\n",
              "      border-color: transparent;\n",
              "      border-right-color: var(--fill-color);\n",
              "    }\n",
              "    80% {\n",
              "      border-color: transparent;\n",
              "      border-right-color: var(--fill-color);\n",
              "      border-bottom-color: var(--fill-color);\n",
              "    }\n",
              "    90% {\n",
              "      border-color: transparent;\n",
              "      border-bottom-color: var(--fill-color);\n",
              "    }\n",
              "  }\n",
              "</style>\n",
              "\n",
              "      <script>\n",
              "        async function quickchart(key) {\n",
              "          const quickchartButtonEl =\n",
              "            document.querySelector('#' + key + ' button');\n",
              "          quickchartButtonEl.disabled = true;  // To prevent multiple clicks.\n",
              "          quickchartButtonEl.classList.add('colab-df-spinner');\n",
              "          try {\n",
              "            const charts = await google.colab.kernel.invokeFunction(\n",
              "                'suggestCharts', [key], {});\n",
              "          } catch (error) {\n",
              "            console.error('Error during call to suggestCharts:', error);\n",
              "          }\n",
              "          quickchartButtonEl.classList.remove('colab-df-spinner');\n",
              "          quickchartButtonEl.classList.add('colab-df-quickchart-complete');\n",
              "        }\n",
              "        (() => {\n",
              "          let quickchartButtonEl =\n",
              "            document.querySelector('#df-966952d8-c9eb-401f-b03f-9238208a33e8 button');\n",
              "          quickchartButtonEl.style.display =\n",
              "            google.colab.kernel.accessAllowed ? 'block' : 'none';\n",
              "        })();\n",
              "      </script>\n",
              "    </div>\n",
              "\n",
              "    </div>\n",
              "  </div>\n"
            ],
            "application/vnd.google.colaboratory.intrinsic+json": {
              "type": "dataframe",
              "variable_name": "df_ocorrencias"
            }
          },
          "metadata": {},
          "execution_count": 2
        }
      ]
    },
    {
      "cell_type": "markdown",
      "source": [
        "## 3.1-Hipótese:\n",
        "#** Existem perfis distintos de ocorrências aeronáuticas que se agrupam segundo características da aeronave (como número de motores, peso e assentos),  fatores contribuintes (humano, material, operacional, etc.) e fases de operação (pouso, decolagem, cruzeiro, manobra, etc).**"
      ],
      "metadata": {
        "id": "brVUNB4sCynH"
      }
    },
    {
      "cell_type": "markdown",
      "source": [
        "##3.2-TESTE DE HIPÓTESE"
      ],
      "metadata": {
        "id": "1GKpbOzOKFoK"
      }
    },
    {
      "cell_type": "markdown",
      "source": [
        "##3.2.1-Clusterização"
      ],
      "metadata": {
        "id": "YwTqMxcEKPcL"
      }
    },
    {
      "cell_type": "code",
      "source": [
        "#Seleção de variáveis pertinentes para a clusterização por coluna em df_ocorrencias.columns:\n",
        "for col in df_ocorrencias.columns:\n",
        "    print(f\"Coluna: {col}\")\n",
        "    print(f\"Tipo: {df_ocorrencias[col].dtype}\")\n",
        "    print(f\"Quantidade de valores únicos: {df_ocorrencias[col].nunique()}\")\n",
        "    print(f\"Amostra de dados: {df_ocorrencias[col].sample(min(5, len(df_ocorrencias[col]))).tolist()}\")\n",
        "    print(\"-\" * 30)"
      ],
      "metadata": {
        "colab": {
          "base_uri": "https://localhost:8080/"
        },
        "id": "teRBgNVKSJ8W",
        "outputId": "362010ca-9a83-4789-ea0a-78df2603cb27"
      },
      "execution_count": 3,
      "outputs": [
        {
          "output_type": "stream",
          "name": "stdout",
          "text": [
            "Coluna: codigo_ocorrencia\n",
            "Tipo: int64\n",
            "Quantidade de valores únicos: 1059\n",
            "Amostra de dados: [49619, 38425, 27809, 28377, 49617]\n",
            "------------------------------\n",
            "Coluna: classificacao\n",
            "Tipo: object\n",
            "Quantidade de valores únicos: 2\n",
            "Amostra de dados: ['ACIDENTE', 'INCIDENTE GRAVE', 'ACIDENTE', 'ACIDENTE', 'INCIDENTE GRAVE']\n",
            "------------------------------\n",
            "Coluna: tipo\n",
            "Tipo: object\n",
            "Quantidade de valores únicos: 43\n",
            "Amostra de dados: ['FALHA DE SISTEMA / COMPONENTE', 'COM TREM DE POUSO', 'COM COMANDOS DE VOO', 'COLISÃO COM OBSTÁCULO NO SOLO', 'POUSO SEM TREM']\n",
            "------------------------------\n",
            "Coluna: localidade\n",
            "Tipo: object\n",
            "Quantidade de valores únicos: 513\n",
            "Amostra de dados: ['BALSAS', 'PONTA GROSSA', 'SANTA RITA DE CÁSSIA', 'BOA ESPERANÇA DO SUL', 'JUIZ DE FORA']\n",
            "------------------------------\n",
            "Coluna: uf\n",
            "Tipo: object\n",
            "Quantidade de valores únicos: 27\n",
            "Amostra de dados: ['SP', 'MT', 'SP', 'BA', 'MS']\n",
            "------------------------------\n",
            "Coluna: pais\n",
            "Tipo: object\n",
            "Quantidade de valores únicos: 1\n",
            "Amostra de dados: ['BRASIL', 'BRASIL', 'BRASIL', 'BRASIL', 'BRASIL']\n",
            "------------------------------\n",
            "Coluna: aerodromo\n",
            "Tipo: object\n",
            "Quantidade de valores únicos: 218\n",
            "Amostra de dados: [nan, 'SWFN', 'SBPS', 'SJDU', nan]\n",
            "------------------------------\n",
            "Coluna: dia_ocorrencia\n",
            "Tipo: object\n",
            "Quantidade de valores únicos: 889\n",
            "Amostra de dados: ['2014-01-08', '2015-05-29', '2010-09-25', '2013-11-14', '2013-05-18']\n",
            "------------------------------\n",
            "Coluna: horario\n",
            "Tipo: object\n",
            "Quantidade de valores únicos: 307\n",
            "Amostra de dados: ['09:55:00', '17:55:00', '13:10:00', '20:30:00', '20:00:00']\n",
            "------------------------------\n",
            "Coluna: sera_investigada\n",
            "Tipo: object\n",
            "Quantidade de valores únicos: 2\n",
            "Amostra de dados: ['SIM', 'SIM', 'SIM', 'SIM', 'SIM']\n",
            "------------------------------\n",
            "Coluna: comando_investigador\n",
            "Tipo: object\n",
            "Quantidade de valores únicos: 8\n",
            "Amostra de dados: ['SERIPA-1', 'SERIPA-4', 'SERIPA-6', 'SERIPA-5', 'SERIPA-6']\n",
            "------------------------------\n",
            "Coluna: status_investigacao\n",
            "Tipo: object\n",
            "Quantidade de valores únicos: 1\n",
            "Amostra de dados: ['FINALIZADA', 'FINALIZADA', 'FINALIZADA', 'FINALIZADA', 'FINALIZADA']\n",
            "------------------------------\n",
            "Coluna: numero_relatorio\n",
            "Tipo: object\n",
            "Quantidade de valores únicos: 919\n",
            "Amostra de dados: ['A-033/CENIPA/2012', 'A-046/CENIPA/2010', 'A-561/CENIPA/2011', 'IG-114/CENIPA/2014', 'A-040/CENIPA/2013']\n",
            "------------------------------\n",
            "Coluna: relatorio_publicado\n",
            "Tipo: float64\n",
            "Quantidade de valores únicos: 2\n",
            "Amostra de dados: [1.0, 1.0, 1.0, 1.0, 1.0]\n",
            "------------------------------\n",
            "Coluna: dia_publicacao\n",
            "Tipo: object\n",
            "Quantidade de valores únicos: 202\n",
            "Amostra de dados: ['2015-10-13', '2014-03-28', '2012-03-22', '2015-11-16', '2014-10-01']\n",
            "------------------------------\n",
            "Coluna: quantidade_recomendacoes\n",
            "Tipo: int64\n",
            "Quantidade de valores únicos: 27\n",
            "Amostra de dados: [1, 2, 2, 0, 0]\n",
            "------------------------------\n",
            "Coluna: aeronaves_envolvidas\n",
            "Tipo: int64\n",
            "Quantidade de valores únicos: 3\n",
            "Amostra de dados: [1, 1, 1, 1, 1]\n",
            "------------------------------\n",
            "Coluna: saida_pista\n",
            "Tipo: float64\n",
            "Quantidade de valores únicos: 2\n",
            "Amostra de dados: [0.0, 0.0, 0.0, 0.0, 0.0]\n",
            "------------------------------\n",
            "Coluna: codigo_aeronave\n",
            "Tipo: int64\n",
            "Quantidade de valores únicos: 1004\n",
            "Amostra de dados: [7381, 10453, 2469, 14119, 13534]\n",
            "------------------------------\n",
            "Coluna: matricula\n",
            "Tipo: object\n",
            "Quantidade de valores únicos: 1004\n",
            "Amostra de dados: ['PTWYK', 'PRLTB', 'PTGKQ', 'PPGOZ', 'PTREI']\n",
            "------------------------------\n",
            "Coluna: codigo_operador\n",
            "Tipo: int64\n",
            "Quantidade de valores únicos: 345\n",
            "Amostra de dados: [229, 2361, 3992, 3992, 2196]\n",
            "------------------------------\n",
            "Coluna: equipamento\n",
            "Tipo: object\n",
            "Quantidade de valores únicos: 5\n",
            "Amostra de dados: ['AVIÃO', 'AVIÃO', 'AVIÃO', 'AVIÃO', 'AVIÃO']\n",
            "------------------------------\n",
            "Coluna: fabricante\n",
            "Tipo: object\n",
            "Quantidade de valores únicos: 54\n",
            "Amostra de dados: ['NEIVA INDUSTRIA AERONAUTICA', 'LEARJET', 'AIR TRACTOR', 'BEECH AIRCRAFT', 'AERO BOERO']\n",
            "------------------------------\n",
            "Coluna: modelo\n",
            "Tipo: object\n",
            "Quantidade de valores únicos: 270\n",
            "Amostra de dados: ['AS 350 B2', 'PA-18', '182P', 'EMB-810C', 'EMB-810D']\n",
            "------------------------------\n",
            "Coluna: tipo_motor\n",
            "Tipo: object\n",
            "Quantidade de valores únicos: 6\n",
            "Amostra de dados: ['TURBOÉLICE', 'PISTÃO', 'PISTÃO', 'PISTÃO', 'PISTÃO']\n",
            "------------------------------\n",
            "Coluna: quantidade_motores\n",
            "Tipo: float64\n",
            "Quantidade de valores únicos: 5\n",
            "Amostra de dados: [1.0, 1.0, 1.0, 1.0, 1.0]\n",
            "------------------------------\n",
            "Coluna: peso_maximo_decolagem\n",
            "Tipo: int64\n",
            "Quantidade de valores únicos: 176\n",
            "Amostra de dados: [1157, 1134, 1800, 621, 2858]\n",
            "------------------------------\n",
            "Coluna: quantidade_assentos\n",
            "Tipo: float64\n",
            "Quantidade de valores únicos: 35\n",
            "Amostra de dados: [6.0, 2.0, 6.0, 6.0, 2.0]\n",
            "------------------------------\n",
            "Coluna: ano_fabricacao\n",
            "Tipo: object\n",
            "Quantidade de valores únicos: 71\n",
            "Amostra de dados: ['1973-01-01', '1987-01-01', '1976-01-01', '1999-01-01', '1980-01-01']\n",
            "------------------------------\n",
            "Coluna: pais_registro\n",
            "Tipo: object\n",
            "Quantidade de valores únicos: 6\n",
            "Amostra de dados: ['BRASIL', 'BRASIL', 'BRASIL', 'BRASIL', 'BRASIL']\n",
            "------------------------------\n",
            "Coluna: categoria_registro\n",
            "Tipo: object\n",
            "Quantidade de valores únicos: 22\n",
            "Amostra de dados: ['TPP', 'TPX', 'TPP', 'TPP', 'SAE-AG']\n",
            "------------------------------\n",
            "Coluna: categoria_aviacao\n",
            "Tipo: object\n",
            "Quantidade de valores únicos: 13\n",
            "Amostra de dados: ['ESPECIALIZADA', 'PARTICULAR', 'ESPECIALIZADA', 'TÁXI AÉREO', 'PARTICULAR']\n",
            "------------------------------\n",
            "Coluna: origem_voo\n",
            "Tipo: object\n",
            "Quantidade de valores únicos: 296\n",
            "Amostra de dados: [nan, 'SSHS', 'SWKC', 'SNFX', 'SDIO']\n",
            "------------------------------\n",
            "Coluna: destino_voo\n",
            "Tipo: object\n",
            "Quantidade de valores únicos: 299\n",
            "Amostra de dados: ['SJNF', nan, 'SDUB', 'SNPA', 'SDYJ']\n",
            "------------------------------\n",
            "Coluna: fase_operacao\n",
            "Tipo: object\n",
            "Quantidade de valores únicos: 22\n",
            "Amostra de dados: ['POUSO', 'ESTACIONAMENTO', 'POUSO', 'INDETERMINADA', 'DECOLAGEM']\n",
            "------------------------------\n",
            "Coluna: tipo_operacao\n",
            "Tipo: object\n",
            "Quantidade de valores únicos: 10\n",
            "Amostra de dados: ['INSTRUÇÃO', 'TÁXI AÉREO', 'INSTRUÇÃO', 'PRIVADA', 'POLICIAL']\n",
            "------------------------------\n",
            "Coluna: nivel_dano\n",
            "Tipo: object\n",
            "Quantidade de valores únicos: 5\n",
            "Amostra de dados: ['SUBSTANCIAL', 'SUBSTANCIAL', 'SUBSTANCIAL', 'SUBSTANCIAL', 'DESTRUÍDA']\n",
            "------------------------------\n",
            "Coluna: quantidade_fatalidades\n",
            "Tipo: float64\n",
            "Quantidade de valores únicos: 16\n",
            "Amostra de dados: [0.0, 0.0, 0.0, 0.0, 0.0]\n",
            "------------------------------\n",
            "Coluna: dia_extracao\n",
            "Tipo: object\n",
            "Quantidade de valores únicos: 1\n",
            "Amostra de dados: ['2016-07-30', '2016-07-30', '2016-07-30', '2016-07-30', '2016-07-30']\n",
            "------------------------------\n",
            "Coluna: fator_area_FATOR HUMANO\n",
            "Tipo: float64\n",
            "Quantidade de valores únicos: 2\n",
            "Amostra de dados: [0.0, 0.0, 1.0, 0.0, 0.0]\n",
            "------------------------------\n",
            "Coluna: fator_area_FATOR MATERIAL\n",
            "Tipo: float64\n",
            "Quantidade de valores únicos: 2\n",
            "Amostra de dados: [0.0, 0.0, 0.0, 0.0, 0.0]\n",
            "------------------------------\n",
            "Coluna: fator_area_FATOR OPERACIONAL\n",
            "Tipo: float64\n",
            "Quantidade de valores únicos: 2\n",
            "Amostra de dados: [1.0, 1.0, 1.0, 0.0, 1.0]\n",
            "------------------------------\n",
            "Coluna: fator_area_OUTRO\n",
            "Tipo: float64\n",
            "Quantidade de valores únicos: 2\n",
            "Amostra de dados: [1.0, 0.0, 0.0, 0.0, 0.0]\n",
            "------------------------------\n",
            "Coluna: ano\n",
            "Tipo: int64\n",
            "Quantidade de valores únicos: 10\n",
            "Amostra de dados: [2008, 2013, 2012, 2007, 2009]\n",
            "------------------------------\n",
            "Coluna: mes\n",
            "Tipo: int64\n",
            "Quantidade de valores únicos: 12\n",
            "Amostra de dados: [6, 3, 5, 2, 8]\n",
            "------------------------------\n",
            "Coluna: dia\n",
            "Tipo: int64\n",
            "Quantidade de valores únicos: 31\n",
            "Amostra de dados: [28, 7, 29, 25, 2]\n",
            "------------------------------\n",
            "Coluna: ano_de_fabricacao\n",
            "Tipo: float64\n",
            "Quantidade de valores únicos: 71\n",
            "Amostra de dados: [1972.0, 2006.0, 2011.0, 2001.0, 1988.0]\n",
            "------------------------------\n",
            "Coluna: grupo_ano_fab\n",
            "Tipo: object\n",
            "Quantidade de valores únicos: 3\n",
            "Amostra de dados: ['Antes de 1980', 'Antes de 1980', 'Antes de 1980', 'Antes de 1980', 'Antes de 1980']\n",
            "------------------------------\n",
            "Coluna: nivel_dano_num\n",
            "Tipo: float64\n",
            "Quantidade de valores únicos: 4\n",
            "Amostra de dados: [2.0, 2.0, 2.0, 2.0, 2.0]\n",
            "------------------------------\n"
          ]
        }
      ]
    },
    {
      "cell_type": "markdown",
      "source": [
        "- A Clusterização é um método de aprendizado não supervisionado que busca agrupar os dados de acordo com similaridades intrínsecas, sem precisar de rótulos prévios.\n",
        "\n",
        "- O objetivo é descobrir se os dados naturalmente formam grupos com características semelhantes. Por exemplo, se existem clusters que representam aeronaves pequenas em fase de decolagem com fatores humanos prevalentes, enquanto outros agrupam aeronaves maiores com predominância de fatores materiais.\n",
        "\n",
        "\n",
        "- A clusterização permite combinar variáveis contínuas (como peso, quantidade de motores), binárias (fatores contribuintes) e categóricas (fase_operacao), essas últimas transformadas por one-hot encoding, para formar um perfil multidimensional dos dados.\n",
        "\n",
        "\n",
        "- Em resumo, agrupar as ocorrências em clusters ajuda a identificar padrões ou perfis que podem passar despercebidos em análises simples. Isso pode guiar ações específicas para cada perfil, como intervenções focadas em determinados fatores ou fases da operação."
      ],
      "metadata": {
        "id": "p0IIKzFlKx0L"
      }
    },
    {
      "cell_type": "markdown",
      "source": [
        "##3.2.1.1-Tratamento dos dados para clusterização"
      ],
      "metadata": {
        "id": "1Q5Q3V3ALT1L"
      }
    },
    {
      "cell_type": "markdown",
      "source": [
        "- Para preparar os dados para clusterização, foram selecionadas variáveis relacionadas às características da aeronave (quantidade de motores, peso máximo de decolagem, assentos, nível de dano), fatores contribuintes binários e a fase da operação. As variáveis numéricas foram normalizadas para eliminar diferenças de escala, garantindo peso equivalente no agrupamento. A variável categórica fase_operacao foi convertida em variáveis binárias por one-hot encoding, permitindo sua inclusão no modelo sem hierarquia implícita. Por fim, todas as variáveis foram concatenadas em uma única matriz, que serve como base para aplicar o algoritmo KMeans, garantindo a comparação adequada entre as diferentes características."
      ],
      "metadata": {
        "id": "_327whHcL0Fa"
      }
    },
    {
      "cell_type": "code",
      "source": [
        "# Seleção de colunas para cluster\n",
        "cols = ['quantidade_motores', 'peso_maximo_decolagem', 'quantidade_assentos',\n",
        "        'fator_area_FATOR HUMANO', 'fator_area_FATOR MATERIAL',\n",
        "        'fator_area_FATOR OPERACIONAL', 'fator_area_OUTRO',\n",
        "        'nivel_dano_num', 'fase_operacao']\n",
        "\n",
        "df_cluster = df_ocorrencias[cols].dropna()\n",
        "\n",
        "# Normalização das variáveis numéricas\n",
        "num_cols = ['quantidade_motores', 'peso_maximo_decolagem', 'quantidade_assentos', 'nivel_dano_num']\n",
        "scaler = StandardScaler()\n",
        "num_scaled = scaler.fit_transform(df_cluster[num_cols])\n",
        "X_num = pd.DataFrame(num_scaled, columns=[c + '_scaled' for c in num_cols])\n",
        "\n",
        "# Seleção das variáveis binárias dos fatores\n",
        "X_fatores = df_cluster[['fator_area_FATOR HUMANO', 'fator_area_FATOR MATERIAL',\n",
        "                        'fator_area_FATOR OPERACIONAL', 'fator_area_OUTRO']].reset_index(drop=True)\n",
        "\n",
        "# One-hot encoding da variável fase_operacao\n",
        "X_fase = pd.get_dummies(df_cluster['fase_operacao'], prefix='fase').reset_index(drop=True)\n",
        "\n",
        "# Concatenação\n",
        "X = pd.concat([X_num, X_fatores, X_fase], axis=1)\n",
        "\n",
        "\n"
      ],
      "metadata": {
        "id": "YfXJgQLwGTcP"
      },
      "execution_count": 4,
      "outputs": []
    },
    {
      "cell_type": "markdown",
      "source": [
        "##3.2.1.2- Método Elbow para seleção de número de clusters"
      ],
      "metadata": {
        "id": "cZcWLtruMoNy"
      }
    },
    {
      "cell_type": "markdown",
      "source": [
        "- O Método Elbow ajuda a decidir quantos clusters usar na análise. Ele roda o KMeans com diferentes números de clusters e calcula a inércia, que mostra o quão compactos os grupos são. No gráfico da inércia versus número de clusters, buscamos o “cotovelo” do gráfico, que é o ponto onde a melhora na compactação começa a diminuir. Esse ponto indica o número ideal de clusters para equilibrar simplicidade e qualidade do agrupamento."
      ],
      "metadata": {
        "id": "zsvBHEG1NB9t"
      }
    },
    {
      "cell_type": "code",
      "source": [
        "k_range = range(1, 15)\n",
        "inertia_values = []\n",
        "\n",
        "for k in k_range:\n",
        "    kmeans = KMeans(n_clusters=k, random_state=42)\n",
        "    kmeans.fit(X)\n",
        "    inertia_values.append(kmeans.inertia_)\n",
        "\n",
        "plt.figure(figsize=(8,5))\n",
        "plt.plot(k_range, inertia_values, marker='o')\n",
        "plt.xlabel('Número de Clusters (k)')\n",
        "plt.ylabel('Inércia (Soma dos quadrados dentro do cluster)')\n",
        "plt.title('Método do Cotovelo para escolha de k')\n",
        "plt.xticks(k_range)\n",
        "plt.grid(True)\n",
        "plt.show()"
      ],
      "metadata": {
        "colab": {
          "base_uri": "https://localhost:8080/",
          "height": 488
        },
        "id": "H8VNg4baIBaN",
        "outputId": "3793b816-ac1c-4bfb-bb2e-e866142f18a1"
      },
      "execution_count": 5,
      "outputs": [
        {
          "output_type": "display_data",
          "data": {
            "text/plain": [
              "<Figure size 800x500 with 1 Axes>"
            ],
            "image/png": "[encoded data removed]"
          },
          "metadata": {}
        }
      ]
    },
    {
      "cell_type": "markdown",
      "source": [
        "- É observado o \"cotovelo\" indicando 3 como o número ideal de Clusters (K)"
      ],
      "metadata": {
        "id": "BBq9CAKcNVZO"
      }
    },
    {
      "cell_type": "markdown",
      "source": [
        "##3.2.1.3 - Aplicação do algoritmo KMeans e análise dos clusters gerados"
      ],
      "metadata": {
        "id": "RqvTwH3jN4kg"
      }
    },
    {
      "cell_type": "markdown",
      "source": [
        "- O código executa o algoritmo KMeans com 3 clusters e adiciona os grupos identificados ao dataframe. Depois, calcula a média das variáveis numéricas e a prevalência dos fatores contribuintes para cada cluster, além de mostrar a distribuição das fases de operação. Isso permite entender as características e diferenças entre os perfis formados."
      ],
      "metadata": {
        "id": "ZrKv5wM_N7ZG"
      }
    },
    {
      "cell_type": "code",
      "source": [
        "# Seleção de Kmeans (Quantidade de clusters)\n",
        "kmeans = KMeans(n_clusters=3, random_state=42) #clusters igual a 3\n",
        "clusters = kmeans.fit_predict(X)\n",
        "\n",
        "# Adicição do cluster ao dataset original\n",
        "df_cluster = df_cluster.reset_index(drop=True)\n",
        "df_cluster['cluster'] = clusters\n",
        "\n",
        "# Análise resumo por cluster\n",
        "print(df_cluster.groupby('cluster').mean(numeric_only=True))\n",
        "\n",
        "# Prevalência média dos fatores por cluster\n",
        "print(df_cluster.groupby('cluster')[['fator_area_FATOR HUMANO', 'fator_area_FATOR MATERIAL',\n",
        "                                     'fator_area_FATOR OPERACIONAL', 'fator_area_OUTRO']].mean())\n",
        "\n",
        "# Distribuição de fase_operacao por cluster\n",
        "tabela_fase = df_cluster.pivot_table(index='cluster',\n",
        "                                    columns='fase_operacao',\n",
        "                                    aggfunc='size',\n",
        "                                    fill_value=0)\n",
        "\n",
        "# Normalização para percentuais por cluster\n",
        "tabela_fase_percent = tabela_fase.div(tabela_fase.sum(axis=1), axis=0) * 100\n",
        "\n",
        "# Mostrar a tabela arredondada para 2 casas decimais\n",
        "print(tabela_fase_percent.round(2))\n"
      ],
      "metadata": {
        "colab": {
          "base_uri": "https://localhost:8080/"
        },
        "id": "ObXEb5MMIHhL",
        "outputId": "ad6757be-975e-4264-90b5-71ff66809f24"
      },
      "execution_count": 6,
      "outputs": [
        {
          "output_type": "stream",
          "name": "stdout",
          "text": [
            "         quantidade_motores  peso_maximo_decolagem  quantidade_assentos  \\\n",
            "cluster                                                                   \n",
            "0                  2.000000            3676.466667             8.779167   \n",
            "1                  0.992386            1393.916244             3.319797   \n",
            "2                  2.187500          110263.187500           134.812500   \n",
            "\n",
            "         fator_area_FATOR HUMANO  fator_area_FATOR MATERIAL  \\\n",
            "cluster                                                       \n",
            "0                       0.275000                   0.033333   \n",
            "1                       0.167513                   0.021574   \n",
            "2                       0.500000                   0.062500   \n",
            "\n",
            "         fator_area_FATOR OPERACIONAL  fator_area_OUTRO  nivel_dano_num  \n",
            "cluster                                                                  \n",
            "0                            0.783333          0.125000        1.900000  \n",
            "1                            0.720812          0.086294        1.979695  \n",
            "2                            0.875000          0.125000        0.937500  \n",
            "         fator_area_FATOR HUMANO  fator_area_FATOR MATERIAL  \\\n",
            "cluster                                                       \n",
            "0                       0.275000                   0.033333   \n",
            "1                       0.167513                   0.021574   \n",
            "2                       0.500000                   0.062500   \n",
            "\n",
            "         fator_area_FATOR OPERACIONAL  fator_area_OUTRO  \n",
            "cluster                                                  \n",
            "0                            0.783333          0.125000  \n",
            "1                            0.720812          0.086294  \n",
            "2                            0.875000          0.125000  \n",
            "fase_operacao  APROXIMAÇÃO FINAL  ARREMETIDA NO AR  ARREMETIDA NO SOLO  \\\n",
            "cluster                                                                  \n",
            "0                           5.42              1.25                0.83   \n",
            "1                           2.41              0.89                1.78   \n",
            "2                           6.25              0.00                0.00   \n",
            "\n",
            "fase_operacao  CIRCUITO DE TRÁFEGO  CORRIDA APÓS POUSO  CRUZEIRO  DECOLAGEM  \\\n",
            "cluster                                                                       \n",
            "0                             3.33               15.42     10.00      11.25   \n",
            "1                             2.28                7.61     12.56      21.19   \n",
            "2                             0.00                6.25      6.25       6.25   \n",
            "\n",
            "fase_operacao  DECOLAGEM VERTICAL  DESCIDA  ESPECIALIZADA  ...  MANOBRA  \\\n",
            "cluster                                                    ...            \n",
            "0                            0.00     5.00           0.42  ...     0.42   \n",
            "1                            0.13     2.03           7.36  ...     4.95   \n",
            "2                            0.00    12.50           0.00  ...     0.00   \n",
            "\n",
            "fase_operacao  NAVEGAÇÃO A BAIXA ALTURA  OPERAÇÃO DE SOLO  OUTRA FASE  \\\n",
            "cluster                                                                 \n",
            "0                                  0.00              0.00        0.83   \n",
            "1                                  3.55              0.38        3.81   \n",
            "2                                  0.00              0.00        6.25   \n",
            "\n",
            "fase_operacao  PAIRADO  PARTIDA DO MOTOR  POUSO  RETA FINAL  SUBIDA  TÁXI  \n",
            "cluster                                                                    \n",
            "0                 0.42              1.25  32.08        0.83    6.67  3.33  \n",
            "1                 0.51              0.63  18.65        0.25    4.70  1.40  \n",
            "2                 0.00              0.00  43.75        0.00    6.25  0.00  \n",
            "\n",
            "[3 rows x 22 columns]\n"
          ]
        }
      ]
    },
    {
      "cell_type": "markdown",
      "source": [
        "##3.2.1.3.1 - Distribuição percentual das fases da operação por cluster"
      ],
      "metadata": {
        "id": "KOP_jkgnPa5I"
      }
    },
    {
      "cell_type": "code",
      "source": [
        "fase_dist = df_cluster.groupby(['cluster', 'fase_operacao']).size().reset_index(name='count')\n",
        "fase_dist['percent'] = fase_dist.groupby('cluster')['count'].transform(lambda x: 100 * x / x.sum())\n",
        "\n",
        "plt.figure(figsize=(12, 6))\n",
        "sns.barplot(data=fase_dist, x='cluster', y='percent', hue='fase_operacao')\n",
        "plt.title('Distribuição percentual das fases da operação por cluster')\n",
        "plt.ylabel('Percentual (%)')\n",
        "plt.xlabel('Cluster')\n",
        "plt.legend(title='Fase da Operação', bbox_to_anchor=(1.05, 1), loc='upper left')\n",
        "plt.tight_layout()\n",
        "plt.show()"
      ],
      "metadata": {
        "colab": {
          "base_uri": "https://localhost:8080/",
          "height": 607
        },
        "id": "WBzUS3-wOQf5",
        "outputId": "5b21c2e2-e4b2-4add-b4e2-ec1c30f2ecd1"
      },
      "execution_count": 7,
      "outputs": [
        {
          "output_type": "display_data",
          "data": {
            "text/plain": [
              "<Figure size 1200x600 with 1 Axes>"
            ],
            "image/png": "[encoded data removed]"
          },
          "metadata": {}
        }
      ]
    },
    {
      "cell_type": "markdown",
      "source": [
        "#3.2.3-Cluster 0 - aeronaves de pequeno porte\n",
        "- Peso médio: ~3.676 kg\n",
        "- Assentos: ~9\n",
        "- Dano médio: ~1.9 (substancial)\n",
        "\n",
        "###Fatores mais comuns:\n",
        "\n",
        "- Operacional: 78%\n",
        "- Humano: 27%\n",
        "\n",
        "###Fases mais frequentes:\n",
        "\n",
        "- Pouso (32%)\n",
        "- Corrida após pouso (15%)\n",
        "- Decolagem e cruzeiro\n",
        "\n",
        "- Esse cluster representa aeronaves de pequeno porte usadas em voos regionais ou privados, com acidentes ocorrendo principalmente durante o pouso ou manobras finais. Fatores operacionais e humanos são altamente prevalentes.\n",
        "\n"
      ],
      "metadata": {
        "id": "q1SLkgpsBrJK"
      }
    },
    {
      "cell_type": "markdown",
      "source": [
        "#3.2.2-Cluster 1 - Aeronaves muito leves\n",
        "\n",
        "- Peso: ~1.393 kg\n",
        "- Assentos: ~3,3\n",
        "- Dano médio: ~2.0 (substancial)\n",
        "\n",
        "###Fatores mais comuns:\n",
        "\n",
        "- Operacional: 72%\n",
        "- Humano: 17% (mais baixo entre os clusters)\n",
        "\n",
        "###Fases mais frequentes:\n",
        "\n",
        "- Muito variadas: decolagem, pouso, cruzeiro, manobra, subida, etc.\n",
        "\n",
        "- Aeronaves muito leves, usadas para instrução, agrícola, ou voos particulares diversos. A presença do fator operacional é alta, mas há menor associação com erro humano. Maior variabilidade nas fases sugere comportamento mais disperso e complexo.\n",
        "\n"
      ],
      "metadata": {
        "id": "Wl8pYDbGUrM9"
      }
    },
    {
      "cell_type": "markdown",
      "source": [
        "#3.2.3-Cluster 2 - aviões comerciais de grande porte\n",
        "\n",
        "- Motores: ~2.19\n",
        "- Peso: ~110.263 kg (!!)\n",
        "- Assentos: ~135\n",
        "- Dano: mais leve (~0.94)\n",
        "\n",
        "###Fatores mais frequentes:\n",
        "\n",
        "- Operacional: 87%\n",
        "- Humano: 50%\n",
        "\n",
        "###Fases mais frequentes:\n",
        "\n",
        "- Principalmente pouso (44%)\n",
        "- Outras fases (descida, aproximação) também relevantes\n",
        "\n",
        "-Esse grupo representa aviões comerciais de grande porte. É o único cluster com grande associação a acidentes menos graves, o que condiz com protocolos de segurança mais rígidos. No entanto, o fator humano se destaca, apontando para desafios operacionais mesmo com boa infraestrutura.\n",
        "\n",
        "\n"
      ],
      "metadata": {
        "id": "xMmzH10QVGS-"
      }
    },
    {
      "cell_type": "markdown",
      "source": [
        "###3.3-Gráfico PCA"
      ],
      "metadata": {
        "id": "ORy0FQ9UWE8h"
      }
    },
    {
      "cell_type": "markdown",
      "source": [
        "- O gráfico apresentado utiliza a técnica de Análise de Componentes Principais (PCA) para reduzir a dimensionalidade dos dados e permitir a visualização dos clusters em duas dimensões (PC1 e PC2)."
      ],
      "metadata": {
        "id": "F2lsop6OWU6i"
      }
    },
    {
      "cell_type": "code",
      "source": [
        "pca = PCA(n_components=2)\n",
        "X_pca = pca.fit_transform(X)\n",
        "\n",
        "# DataFrame com coordenadas PCA e clusters\n",
        "df_vis = pd.DataFrame(X_pca, columns=['PC1', 'PC2'])\n",
        "df_vis['cluster'] = df_cluster['cluster'].values\n",
        "\n",
        "# Scatterplot\n",
        "plt.figure(figsize=(10, 7))\n",
        "sns.scatterplot(data=df_vis, x='PC1', y='PC2', hue='cluster', palette='Set1', alpha=0.7, s=60)\n",
        "plt.title('Visualização dos Clusters com PCA')\n",
        "plt.xlabel('Componente Principal 1')\n",
        "plt.ylabel('Componente Principal 2')\n",
        "plt.legend(title='Cluster')\n",
        "plt.grid(True)\n",
        "plt.tight_layout()\n",
        "plt.show()\n"
      ],
      "metadata": {
        "colab": {
          "base_uri": "https://localhost:8080/",
          "height": 707
        },
        "id": "bwq2Vwm-CEfE",
        "outputId": "ff563fa8-f825-43f5-e76f-79196c6b4455"
      },
      "execution_count": 8,
      "outputs": [
        {
          "output_type": "display_data",
          "data": {
            "text/plain": [
              "<Figure size 1000x700 with 1 Axes>"
            ],
            "image/png": "[encoded data removed]"
          },
          "metadata": {}
        }
      ]
    },
    {
      "cell_type": "markdown",
      "source": [
        "###3.4- Análise estatística"
      ],
      "metadata": {
        "id": "Axyrcs7pY9-X"
      }
    },
    {
      "cell_type": "code",
      "source": [
        "labels = clusters\n",
        "\n",
        "X_array = X.values\n",
        "\n",
        "# Calcular métricas\n",
        "sil_score = silhouette_score(X_array, labels)\n",
        "ch_score = calinski_harabasz_score(X_array, labels)\n",
        "db_score = davies_bouldin_score(X_array, labels)\n",
        "\n",
        "print(f\"Silhouette Score: {sil_score:.3f}\")\n",
        "print(f\"Calinski-Harabasz Index: {ch_score:.3f}\")\n",
        "print(f\"Davies-Bouldin Index: {db_score:.3f}\")\n",
        "\n"
      ],
      "metadata": {
        "colab": {
          "base_uri": "https://localhost:8080/"
        },
        "id": "drroNZpHEOay",
        "outputId": "4385e445-b49b-4e04-a663-69f8a2cf389b"
      },
      "execution_count": 9,
      "outputs": [
        {
          "output_type": "stream",
          "name": "stdout",
          "text": [
            "Silhouette Score: 0.352\n",
            "Calinski-Harabasz Index: 405.516\n",
            "Davies-Bouldin Index: 1.131\n"
          ]
        }
      ]
    },
    {
      "cell_type": "markdown",
      "source": [
        "##Silhouette Score = 0.352\n",
        "- Indica uma separação razoável entre os clusters, mas não muito forte. Geralmente valores acima de 0.5 são considerados bons; valores entre 0.25 e 0.5 indicam clusters moderadamente separados, o que é comum em dados reais com variabilidade alta.\n",
        "\n",
        "##Calinski-Harabasz Index = 405.516\n",
        "-Esse valor por si só não tem um limite fixo, mas quanto maior, melhor. Comparado a outras tentativas de clusterização (ex: diferentes k), um valor alto indica boa separação relativa entre os clusters.\n",
        "\n",
        "##Davies-Bouldin Index = 1.131\n",
        "- Valores abaixo de 1 indicam clusters bem separados; 1.131 é próximo disso, mostrando sobreposição.\n",
        "\n",
        "\n",
        "- A clusterização gerou grupos com certa coesão e separação, mas ainda tem espaço para melhoria.\n",
        "\n",
        "## Ideias para tentar melhorar a clusterização:\n",
        "\n",
        "- Testar diferentes números de clusters (k);\n",
        "- Avaliar se outras features podem melhorar a segmentação.\n",
        "\n",
        "\n",
        "- Para muitos problemas reais, esses resultados já são úteis e podem ser interpretados para insights.\n",
        "\n"
      ],
      "metadata": {
        "id": "2OA7cevJFEik"
      }
    },
    {
      "cell_type": "markdown",
      "source": [
        "###3.5- Conclusão e recomendações\n"
      ],
      "metadata": {
        "id": "lMEXjMKsuMZg"
      }
    },
    {
      "cell_type": "markdown",
      "source": [
        "- Com base na clusterização realizada sobre as ocorrências aeronáuticas, foi possível identificar três perfis bem distintos de acidentes, fortemente associados a características técnicas das aeronaves (peso, número de assentos e motores) fatores contribuintes e fases do voo.\n",
        "\n",
        "- A análise revelou que diferentes perfis de aeronaves enfrentam riscos distintos ao longo do ciclo de voo. Estratégias genéricas de mitigação podem falhar se não forem adaptadas à realidade de cada grupo. As evidências obtidas por meio da clusterização podem servir como base para políticas de segurança mais inteligentes e personalizadas."
      ],
      "metadata": {
        "id": "mhPKurciuWBf"
      }
    }
  ]
}